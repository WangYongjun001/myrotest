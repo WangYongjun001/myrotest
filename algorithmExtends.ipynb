{
 "cells": [
  {
   "cell_type": "markdown",
   "metadata": {},
   "source": [
    "### 1 动态规划"
   ]
  },
  {
   "cell_type": "code",
   "execution_count": 1,
   "metadata": {},
   "outputs": [],
   "source": [
    "list_a = [\n",
    "    [7],\n",
    "    [3, 8],\n",
    "    [8, 1, 0],\n",
    "    [2, 7, 4, 4],\n",
    "    [4, 5, 2, 6, 5]\n",
    "]\n",
    "list_b = [\n",
    "    [0],\n",
    "    [0, 0],\n",
    "    [0, 0, 0],\n",
    "    [0, 0, 0, 0],\n",
    "    [0, 0, 0, 0, 0]\n",
    "]\n",
    "def recursion_demo(n):\n",
    "    if n == 1\n",
    "        max_val = list_a[n-1][n-1]\n",
    "        return max_val\n",
    "    if n == 2:\n",
    "        max_val\n",
    "    global list_b\n",
    "    try：\n",
    "        val = list_a[raw_nos][col_nos]\n",
    "    except:\n",
    "        val = 0\n",
    "    for \n",
    "    "
   ]
  }
 ],
 "metadata": {
  "kernelspec": {
   "display_name": "Python 3",
   "language": "python",
   "name": "python3"
  },
  "language_info": {
   "codemirror_mode": {
    "name": "ipython",
    "version": 3
   },
   "file_extension": ".py",
   "mimetype": "text/x-python",
   "name": "python",
   "nbconvert_exporter": "python",
   "pygments_lexer": "ipython3",
   "version": "3.7.3"
  }
 },
 "nbformat": 4,
 "nbformat_minor": 2
}
